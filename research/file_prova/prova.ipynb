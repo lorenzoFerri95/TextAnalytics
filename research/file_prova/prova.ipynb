{
 "cells": [
  {
   "cell_type": "code",
   "execution_count": 4,
   "source": [
    "import tweepy\r\n",
    "import pandas as pd\r\n",
    "import numpy as np"
   ],
   "outputs": [],
   "metadata": {}
  },
  {
   "cell_type": "markdown",
   "source": [
    "# Twitter API"
   ],
   "metadata": {}
  },
  {
   "cell_type": "code",
   "execution_count": 10,
   "source": [
    "CONSUMER_KEY = \"hDLuA2qNafKFUaP9RyCnteoJm\"\r\n",
    "CONSUMER_SECRET = \"GOwyQJyMHdgC0SvoRHMm0iFuEVMOcwNshi1clmXGxYP4IfTQ5k\"\r\n",
    "ACCESS_TOKEN = \"2890805110-Itq6Bhl3L2Tkp2d8ZsNvRvWU00RuAT9lKx12pOD\"\r\n",
    "ACCESS_TOKEN_SECRET = \"ymgWv7OsaLAqsshlEZM4ZKo4VU61goy41M1uoy8l1ilHb\"\r\n",
    "\r\n",
    "\r\n",
    "authentication = tweepy.OAuthHandler(CONSUMER_KEY, CONSUMER_SECRET)\r\n",
    "\r\n",
    "authentication.set_access_token(ACCESS_TOKEN, ACCESS_TOKEN_SECRET)\r\n",
    "\r\n",
    "api = tweepy.API(authentication)\r\n",
    "\r\n",
    "\r\n",
    "nbr_tweets = 100000\r\n",
    "tweets = api.search([\"Bitcoin\", \"bitcoin\", \"BTC\"],\r\n",
    "                       lang = \"en\",\r\n",
    "                       count = nbr_tweets\r\n",
    "                       )\r\n",
    "\r\n",
    "for t in tweets:\r\n",
    "    print(t.user._json)\r\n",
    "    break\r\n"
   ],
   "outputs": [
    {
     "output_type": "stream",
     "name": "stdout",
     "text": [
      "{'id': 1225455147788013568, 'id_str': '1225455147788013568', 'name': 'nex10', 'screen_name': 'nex1013', 'location': '', 'description': 'Include me in your tweets get free RT;)\\nfor fun, exploration and learning here ;)\\nnothing tweeted here by me is recommendation do your own research properly:)', 'url': 'https://t.co/DRbNmxu4Eu', 'entities': {'url': {'urls': [{'url': 'https://t.co/DRbNmxu4Eu', 'expanded_url': 'https://earnbtcandaltcoins.blogspot.com/2020/02/1.html', 'display_url': 'earnbtcandaltcoins.blogspot.com/2020/02/1.html', 'indices': [0, 23]}]}, 'description': {'urls': []}}, 'protected': False, 'followers_count': 145, 'friends_count': 210, 'listed_count': 3, 'created_at': 'Thu Feb 06 16:24:27 +0000 2020', 'favourites_count': 122, 'utc_offset': None, 'time_zone': None, 'geo_enabled': False, 'verified': False, 'statuses_count': 15866, 'lang': None, 'contributors_enabled': False, 'is_translator': False, 'is_translation_enabled': False, 'profile_background_color': 'F5F8FA', 'profile_background_image_url': None, 'profile_background_image_url_https': None, 'profile_background_tile': False, 'profile_image_url': 'http://pbs.twimg.com/profile_images/1229444671341883392/9j6RwLSX_normal.jpg', 'profile_image_url_https': 'https://pbs.twimg.com/profile_images/1229444671341883392/9j6RwLSX_normal.jpg', 'profile_link_color': '1DA1F2', 'profile_sidebar_border_color': 'C0DEED', 'profile_sidebar_fill_color': 'DDEEF6', 'profile_text_color': '333333', 'profile_use_background_image': True, 'has_extended_profile': False, 'default_profile': True, 'default_profile_image': False, 'following': False, 'follow_request_sent': False, 'notifications': False, 'translator_type': 'none', 'withheld_in_countries': []}\n"
     ]
    }
   ],
   "metadata": {}
  },
  {
   "cell_type": "code",
   "execution_count": 23,
   "source": [
    "tweets[0]._json"
   ],
   "outputs": [
    {
     "output_type": "execute_result",
     "data": {
      "text/plain": [
       "{'created_at': 'Wed Aug 25 11:07:26 +0000 2021',\n",
       " 'id': 1430486974964461569,\n",
       " 'id_str': '1430486974964461569',\n",
       " 'text': 'RT @astrologychick: This week is a week to Get Prepared Weekly Horoscope Aug 23-29\\n\\n#cryptoAstrology #Bitcoin #BTC #BTCforecasting\\n\\nhttps:/…',\n",
       " 'truncated': False,\n",
       " 'entities': {'hashtags': [{'text': 'cryptoAstrology', 'indices': [84, 100]},\n",
       "   {'text': 'Bitcoin', 'indices': [101, 109]},\n",
       "   {'text': 'BTC', 'indices': [110, 114]},\n",
       "   {'text': 'BTCforecasting', 'indices': [115, 130]}],\n",
       "  'symbols': [],\n",
       "  'user_mentions': [{'screen_name': 'astrologychick',\n",
       "    'name': 'astrologychick',\n",
       "    'id': 12339652,\n",
       "    'id_str': '12339652',\n",
       "    'indices': [3, 18]}],\n",
       "  'urls': []},\n",
       " 'metadata': {'iso_language_code': 'en', 'result_type': 'recent'},\n",
       " 'source': '<a href=\"https://mobile.twitter.com\" rel=\"nofollow\">Twitter Web App</a>',\n",
       " 'in_reply_to_status_id': None,\n",
       " 'in_reply_to_status_id_str': None,\n",
       " 'in_reply_to_user_id': None,\n",
       " 'in_reply_to_user_id_str': None,\n",
       " 'in_reply_to_screen_name': None,\n",
       " 'user': {'id': 1225455147788013568,\n",
       "  'id_str': '1225455147788013568',\n",
       "  'name': 'nex10',\n",
       "  'screen_name': 'nex1013',\n",
       "  'location': '',\n",
       "  'description': 'Include me in your tweets get free RT;)\\nfor fun, exploration and learning here ;)\\nnothing tweeted here by me is recommendation do your own research properly:)',\n",
       "  'url': 'https://t.co/DRbNmxu4Eu',\n",
       "  'entities': {'url': {'urls': [{'url': 'https://t.co/DRbNmxu4Eu',\n",
       "      'expanded_url': 'https://earnbtcandaltcoins.blogspot.com/2020/02/1.html',\n",
       "      'display_url': 'earnbtcandaltcoins.blogspot.com/2020/02/1.html',\n",
       "      'indices': [0, 23]}]},\n",
       "   'description': {'urls': []}},\n",
       "  'protected': False,\n",
       "  'followers_count': 145,\n",
       "  'friends_count': 210,\n",
       "  'listed_count': 3,\n",
       "  'created_at': 'Thu Feb 06 16:24:27 +0000 2020',\n",
       "  'favourites_count': 122,\n",
       "  'utc_offset': None,\n",
       "  'time_zone': None,\n",
       "  'geo_enabled': False,\n",
       "  'verified': False,\n",
       "  'statuses_count': 15866,\n",
       "  'lang': None,\n",
       "  'contributors_enabled': False,\n",
       "  'is_translator': False,\n",
       "  'is_translation_enabled': False,\n",
       "  'profile_background_color': 'F5F8FA',\n",
       "  'profile_background_image_url': None,\n",
       "  'profile_background_image_url_https': None,\n",
       "  'profile_background_tile': False,\n",
       "  'profile_image_url': 'http://pbs.twimg.com/profile_images/1229444671341883392/9j6RwLSX_normal.jpg',\n",
       "  'profile_image_url_https': 'https://pbs.twimg.com/profile_images/1229444671341883392/9j6RwLSX_normal.jpg',\n",
       "  'profile_link_color': '1DA1F2',\n",
       "  'profile_sidebar_border_color': 'C0DEED',\n",
       "  'profile_sidebar_fill_color': 'DDEEF6',\n",
       "  'profile_text_color': '333333',\n",
       "  'profile_use_background_image': True,\n",
       "  'has_extended_profile': False,\n",
       "  'default_profile': True,\n",
       "  'default_profile_image': False,\n",
       "  'following': False,\n",
       "  'follow_request_sent': False,\n",
       "  'notifications': False,\n",
       "  'translator_type': 'none',\n",
       "  'withheld_in_countries': []},\n",
       " 'geo': None,\n",
       " 'coordinates': None,\n",
       " 'place': None,\n",
       " 'contributors': None,\n",
       " 'retweeted_status': {'created_at': 'Tue Aug 24 00:22:31 +0000 2021',\n",
       "  'id': 1429962288400904192,\n",
       "  'id_str': '1429962288400904192',\n",
       "  'text': 'This week is a week to Get Prepared Weekly Horoscope Aug 23-29\\n\\n#cryptoAstrology #Bitcoin #BTC #BTCforecasting\\n\\nhttps://t.co/P11CiKkADJ',\n",
       "  'truncated': False,\n",
       "  'entities': {'hashtags': [{'text': 'cryptoAstrology', 'indices': [64, 80]},\n",
       "    {'text': 'Bitcoin', 'indices': [81, 89]},\n",
       "    {'text': 'BTC', 'indices': [90, 94]},\n",
       "    {'text': 'BTCforecasting', 'indices': [95, 110]}],\n",
       "   'symbols': [],\n",
       "   'user_mentions': [],\n",
       "   'urls': [{'url': 'https://t.co/P11CiKkADJ',\n",
       "     'expanded_url': 'https://sbee.link/tkm9ap7uwr',\n",
       "     'display_url': 'sbee.link/tkm9ap7uwr',\n",
       "     'indices': [112, 135]}]},\n",
       "  'metadata': {'iso_language_code': 'en', 'result_type': 'recent'},\n",
       "  'source': '<a href=\"https://socialbee.io/\" rel=\"nofollow\">SocialBee.io v2</a>',\n",
       "  'in_reply_to_status_id': None,\n",
       "  'in_reply_to_status_id_str': None,\n",
       "  'in_reply_to_user_id': None,\n",
       "  'in_reply_to_user_id_str': None,\n",
       "  'in_reply_to_screen_name': None,\n",
       "  'user': {'id': 12339652,\n",
       "   'id_str': '12339652',\n",
       "   'name': 'astrologychick',\n",
       "   'screen_name': 'astrologychick',\n",
       "   'location': 'Santa Monica',\n",
       "   'description': 'Astrolger with an accurate track record!!',\n",
       "   'url': 'https://t.co/UH5Fo5yvk6',\n",
       "   'entities': {'url': {'urls': [{'url': 'https://t.co/UH5Fo5yvk6',\n",
       "       'expanded_url': 'http://www.AuraWright.media',\n",
       "       'display_url': 'AuraWright.media',\n",
       "       'indices': [0, 23]}]},\n",
       "    'description': {'urls': []}},\n",
       "   'protected': False,\n",
       "   'followers_count': 512,\n",
       "   'friends_count': 1231,\n",
       "   'listed_count': 3,\n",
       "   'created_at': 'Thu Jan 17 00:39:17 +0000 2008',\n",
       "   'favourites_count': 179,\n",
       "   'utc_offset': None,\n",
       "   'time_zone': None,\n",
       "   'geo_enabled': False,\n",
       "   'verified': False,\n",
       "   'statuses_count': 3500,\n",
       "   'lang': None,\n",
       "   'contributors_enabled': False,\n",
       "   'is_translator': False,\n",
       "   'is_translation_enabled': False,\n",
       "   'profile_background_color': '642D8B',\n",
       "   'profile_background_image_url': 'http://abs.twimg.com/images/themes/theme10/bg.gif',\n",
       "   'profile_background_image_url_https': 'https://abs.twimg.com/images/themes/theme10/bg.gif',\n",
       "   'profile_background_tile': True,\n",
       "   'profile_image_url': 'http://pbs.twimg.com/profile_images/985963270237335552/dAG1PIlY_normal.jpg',\n",
       "   'profile_image_url_https': 'https://pbs.twimg.com/profile_images/985963270237335552/dAG1PIlY_normal.jpg',\n",
       "   'profile_banner_url': 'https://pbs.twimg.com/profile_banners/12339652/1584135051',\n",
       "   'profile_link_color': 'FF0000',\n",
       "   'profile_sidebar_border_color': '65B0DA',\n",
       "   'profile_sidebar_fill_color': '7AC3EE',\n",
       "   'profile_text_color': '3D1957',\n",
       "   'profile_use_background_image': True,\n",
       "   'has_extended_profile': False,\n",
       "   'default_profile': False,\n",
       "   'default_profile_image': False,\n",
       "   'following': False,\n",
       "   'follow_request_sent': False,\n",
       "   'notifications': False,\n",
       "   'translator_type': 'none',\n",
       "   'withheld_in_countries': []},\n",
       "  'geo': None,\n",
       "  'coordinates': None,\n",
       "  'place': None,\n",
       "  'contributors': None,\n",
       "  'is_quote_status': False,\n",
       "  'retweet_count': 2,\n",
       "  'favorite_count': 2,\n",
       "  'favorited': False,\n",
       "  'retweeted': False,\n",
       "  'possibly_sensitive': False,\n",
       "  'lang': 'en'},\n",
       " 'is_quote_status': False,\n",
       " 'retweet_count': 2,\n",
       " 'favorite_count': 0,\n",
       " 'favorited': False,\n",
       " 'retweeted': False,\n",
       " 'possibly_sensitive': False,\n",
       " 'lang': 'en'}"
      ]
     },
     "metadata": {},
     "execution_count": 23
    }
   ],
   "metadata": {}
  },
  {
   "cell_type": "code",
   "execution_count": 22,
   "source": [
    "api.me()"
   ],
   "outputs": [
    {
     "output_type": "execute_result",
     "data": {
      "text/plain": [
       "User(_api=<tweepy.api.API object at 0x0000027F7E8A5A00>, _json={'id': 2890805110, 'id_str': '2890805110', 'name': 'Lorenzo Ferri', 'screen_name': 'LorenzoFerri95', 'location': '', 'profile_location': None, 'description': 'Government Bonds & Money Market Trader - MPS Capital Services', 'url': None, 'entities': {'description': {'urls': []}}, 'protected': False, 'followers_count': 12, 'friends_count': 116, 'listed_count': 0, 'created_at': 'Mon Nov 24 13:48:33 +0000 2014', 'favourites_count': 0, 'utc_offset': None, 'time_zone': None, 'geo_enabled': False, 'verified': False, 'statuses_count': 0, 'lang': None, 'contributors_enabled': False, 'is_translator': False, 'is_translation_enabled': False, 'profile_background_color': 'C0DEED', 'profile_background_image_url': 'http://abs.twimg.com/images/themes/theme1/bg.png', 'profile_background_image_url_https': 'https://abs.twimg.com/images/themes/theme1/bg.png', 'profile_background_tile': False, 'profile_image_url': 'http://pbs.twimg.com/profile_images/1003193373522563073/Abu6a1qJ_normal.jpg', 'profile_image_url_https': 'https://pbs.twimg.com/profile_images/1003193373522563073/Abu6a1qJ_normal.jpg', 'profile_banner_url': 'https://pbs.twimg.com/profile_banners/2890805110/1528016369', 'profile_link_color': '1DA1F2', 'profile_sidebar_border_color': 'C0DEED', 'profile_sidebar_fill_color': 'DDEEF6', 'profile_text_color': '333333', 'profile_use_background_image': True, 'has_extended_profile': False, 'default_profile': True, 'default_profile_image': False, 'following': False, 'follow_request_sent': False, 'notifications': False, 'translator_type': 'none', 'withheld_in_countries': [], 'suspended': False, 'needs_phone_verification': False}, id=2890805110, id_str='2890805110', name='Lorenzo Ferri', screen_name='LorenzoFerri95', location='', profile_location=None, description='Government Bonds & Money Market Trader - MPS Capital Services', url=None, entities={'description': {'urls': []}}, protected=False, followers_count=12, friends_count=116, listed_count=0, created_at=datetime.datetime(2014, 11, 24, 13, 48, 33), favourites_count=0, utc_offset=None, time_zone=None, geo_enabled=False, verified=False, statuses_count=0, lang=None, contributors_enabled=False, is_translator=False, is_translation_enabled=False, profile_background_color='C0DEED', profile_background_image_url='http://abs.twimg.com/images/themes/theme1/bg.png', profile_background_image_url_https='https://abs.twimg.com/images/themes/theme1/bg.png', profile_background_tile=False, profile_image_url='http://pbs.twimg.com/profile_images/1003193373522563073/Abu6a1qJ_normal.jpg', profile_image_url_https='https://pbs.twimg.com/profile_images/1003193373522563073/Abu6a1qJ_normal.jpg', profile_banner_url='https://pbs.twimg.com/profile_banners/2890805110/1528016369', profile_link_color='1DA1F2', profile_sidebar_border_color='C0DEED', profile_sidebar_fill_color='DDEEF6', profile_text_color='333333', profile_use_background_image=True, has_extended_profile=False, default_profile=True, default_profile_image=False, following=False, follow_request_sent=False, notifications=False, translator_type='none', withheld_in_countries=[], suspended=False, needs_phone_verification=False)"
      ]
     },
     "metadata": {},
     "execution_count": 22
    }
   ],
   "metadata": {}
  },
  {
   "cell_type": "code",
   "execution_count": null,
   "source": [],
   "outputs": [],
   "metadata": {}
  },
  {
   "cell_type": "code",
   "execution_count": null,
   "source": [
    "CONSUMER_KEY = \"##############\"\r\n",
    "CONSUMER_SECRET = \"##############\"\r\n",
    "ACCESS_TOKEN = \"##############\"\r\n",
    "ACCESS_TOKEN_SECRET = \"##############\"\r\n",
    "\r\n",
    "\r\n",
    "authentication = tweepy.OAuthHandler(CONSUMER_KEY, CONSUMER_SECRET)\r\n",
    "\r\n",
    "authentication.set_access_token(ACCESS_TOKEN, ACCESS_TOKEN_SECRET)\r\n",
    "\r\n",
    "api = tweepy.API(authentication)\r\n",
    "\r\n",
    "\r\n",
    "max_tweets = 1000000\r\n",
    "tweets = tweepy.Cursor(api.search,\r\n",
    "                       q=[\"Bitcoin\", \"bitcoin\"],  # BTC\r\n",
    "                       lang = \"en\",\r\n",
    "                       since_id=\"2021-01-01\"\r\n",
    "                       ).items(max_tweets)\r\n",
    "\r\n",
    "for t in tweets:\r\n",
    "    print(t.user._json)\r\n",
    "    break\r\n"
   ],
   "outputs": [],
   "metadata": {}
  },
  {
   "cell_type": "code",
   "execution_count": null,
   "source": [],
   "outputs": [],
   "metadata": {}
  },
  {
   "cell_type": "markdown",
   "source": [
    "# Transformers Sentiment Pipeline"
   ],
   "metadata": {}
  },
  {
   "cell_type": "code",
   "execution_count": null,
   "source": [
    "df_tweets_polarized = pd.read_csv(\"/gdrive/My Drive/TextAnalytics/datasets/df_tweets_sentiment.csv\")\r\n",
    "\r\n",
    "df_tweets_polarized['date'] = pd.to_datetime(df_tweets_polarized['date'])\r\n",
    "df_tweets_polarized = df_tweets_polarized.set_index(['date']).sort_index()\r\n",
    "\r\n",
    "df_tweets_polarized['user_created'] = pd.to_datetime(df_tweets_polarized['user_created'])\r\n",
    "\r\n",
    "df_tweets_polarized"
   ],
   "outputs": [],
   "metadata": {}
  },
  {
   "cell_type": "code",
   "execution_count": null,
   "source": [
    "\r\n",
    "import transformers\r\n",
    "from transformers import pipeline\r\n"
   ],
   "outputs": [],
   "metadata": {}
  },
  {
   "cell_type": "code",
   "execution_count": null,
   "source": [
    "\r\n",
    "from transformers import AutoModelForSequenceClassification\r\n",
    "from transformers import TFAutoModelForSequenceClassification\r\n",
    "from transformers import AutoTokenizer\r\n",
    "\r\n",
    "# https://huggingface.co/siebert/sentiment-roberta-large-english\r\n",
    "\r\n",
    "model_name = \"cardiffnlp/twitter-roberta-base-sentiment\" #\"cardiffnlp/twitter-xlm-roberta-base-sentiment\" #\"siebert/sentiment-roberta-large-english\"\r\n",
    "model = AutoModelForSequenceClassification.from_pretrained(model_name)\r\n",
    "tokenizer = AutoTokenizer.from_pretrained(model_name)\r\n",
    "clf = pipeline('sentiment-analysis', model=model, tokenizer=tokenizer)"
   ],
   "outputs": [],
   "metadata": {}
  },
  {
   "cell_type": "code",
   "execution_count": null,
   "source": [
    "df_tweets_polarized[\"transformers_sentiment\"] = df_tweets_polarized[\"text\"].apply(lambda text: clf(str(text))[0].get('label'))"
   ],
   "outputs": [],
   "metadata": {}
  },
  {
   "cell_type": "code",
   "execution_count": null,
   "source": [
    "df_tweets_polarized.info()"
   ],
   "outputs": [],
   "metadata": {}
  },
  {
   "cell_type": "code",
   "execution_count": null,
   "source": [
    "df_tweets_polarized"
   ],
   "outputs": [],
   "metadata": {}
  },
  {
   "cell_type": "code",
   "execution_count": null,
   "source": [
    "df_tweets_polarized[\"transformers_sentiment\"].unique()"
   ],
   "outputs": [],
   "metadata": {}
  },
  {
   "cell_type": "code",
   "execution_count": null,
   "source": [
    "df_tweets_polarized[\"transformers_sentiment\"].value_counts()"
   ],
   "outputs": [],
   "metadata": {}
  },
  {
   "cell_type": "code",
   "execution_count": null,
   "source": [
    "df_tweets_polarized[\"transformers_sentiment\"] = df_tweets_polarized[\"transformers_sentiment\"].replace([\"POSITIVE\", \"NEGATIVE\"], [1, 0])"
   ],
   "outputs": [],
   "metadata": {}
  },
  {
   "cell_type": "code",
   "execution_count": null,
   "source": [
    "#df_tweets_polarized.to_csv('/gdrive/My Drive/TextAnalytics/datasets/df_tweets_sentiment.csv')"
   ],
   "outputs": [],
   "metadata": {}
  }
 ],
 "metadata": {
  "orig_nbformat": 4,
  "language_info": {
   "name": "python",
   "version": "3.8.10",
   "mimetype": "text/x-python",
   "codemirror_mode": {
    "name": "ipython",
    "version": 3
   },
   "pygments_lexer": "ipython3",
   "nbconvert_exporter": "python",
   "file_extension": ".py"
  },
  "kernelspec": {
   "name": "python3",
   "display_name": "Python 3.8.10 64-bit"
  },
  "interpreter": {
   "hash": "14ee9122bc0dbba13bc6e9980465e34fd2e401aecc2ceb0874297cc3773a61b3"
  }
 },
 "nbformat": 4,
 "nbformat_minor": 2
}